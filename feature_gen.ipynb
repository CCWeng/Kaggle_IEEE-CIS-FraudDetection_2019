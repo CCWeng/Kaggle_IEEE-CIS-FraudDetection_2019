{
 "cells": [
  {
   "cell_type": "code",
   "execution_count": 2,
   "metadata": {
    "collapsed": true
   },
   "outputs": [],
   "source": [
    "import numpy as np\n",
    "import pandas as pd\n",
    "import matplotlib.pyplot as plt\n",
    "import seaborn as sns\n",
    "import gc,os,sys\n",
    "import re\n",
    "\n",
    "from sklearn import metrics, preprocessing\n",
    "from sklearn.model_selection import StratifiedKFold\n",
    "from sklearn.decomposition import PCA, KernelPCA\n",
    "from sklearn.cluster import KMeans\n",
    "from tqdm import tqdm\n",
    "\n",
    "import warnings\n",
    "warnings.filterwarnings('ignore')\n",
    "\n",
    "sns.set_style('darkgrid')\n",
    "\n",
    "pd.options.display.float_format = '{:,.3f}'.format"
   ]
  },
  {
   "cell_type": "code",
   "execution_count": 3,
   "metadata": {
    "collapsed": true
   },
   "outputs": [],
   "source": [
    "# Memory saving function credit to https://www.kaggle.com/gemartin/load-data-reduce-memory-usage\n",
    "def reduce_mem_usage(df):\n",
    "    \"\"\" iterate through all the columns of a dataframe and modify the data type\n",
    "        to reduce memory usage.\n",
    "    \"\"\"\n",
    "    start_mem = df.memory_usage().sum() / 1024**2\n",
    "    \n",
    "    for col in df.columns:\n",
    "        col_type = df[col].dtype\n",
    "        \n",
    "        if col_type != object:\n",
    "            c_min = df[col].min()\n",
    "            c_max = df[col].max()\n",
    "            if str(col_type)[:3] == 'int':\n",
    "                if c_min > np.iinfo(np.int8).min and c_max < np.iinfo(np.int8).max:\n",
    "                    df[col] = df[col].astype(np.int8)\n",
    "                elif c_min > np.iinfo(np.int16).min and c_max < np.iinfo(np.int16).max:\n",
    "                    df[col] = df[col].astype(np.int16)\n",
    "                elif c_min > np.iinfo(np.int32).min and c_max < np.iinfo(np.int32).max:\n",
    "                    df[col] = df[col].astype(np.int32)\n",
    "                elif c_min > np.iinfo(np.int64).min and c_max < np.iinfo(np.int64).max:\n",
    "                    df[col] = df[col].astype(np.int64)  \n",
    "            else:\n",
    "                if c_min > np.finfo(np.float16).min and c_max < np.finfo(np.float16).max:\n",
    "                    df[col] = df[col].astype(np.float16)\n",
    "                elif c_min > np.finfo(np.float32).min and c_max < np.finfo(np.float32).max:\n",
    "                    df[col] = df[col].astype(np.float32)\n",
    "                else:\n",
    "                    df[col] = df[col].astype(np.float64)\n",
    "        #else:\n",
    "            #df[col] = df[col].astype('category')\n",
    "\n",
    "    end_mem = df.memory_usage().sum() / 1024**2\n",
    "    print('Memory usage of dataframe is {:.2f} MB --> {:.2f} MB (Decreased by {:.1f}%)'.format(\n",
    "        start_mem, end_mem, 100 * (start_mem - end_mem) / start_mem))\n",
    "    return df"
   ]
  },
  {
   "cell_type": "code",
   "execution_count": 6,
   "metadata": {},
   "outputs": [
    {
     "name": "stdout",
     "output_type": "stream",
     "text": [
      "Memory usage of dataframe is 1959.00 MB --> 650.00 MB (Decreased by 66.0%)\n",
      "Memory usage of dataframe is 1677.00 MB --> 565.00 MB (Decreased by 66.0%)\n"
     ]
    }
   ],
   "source": [
    "train_id = pd.read_csv('_input/train_identity.csv')\n",
    "train_trn = pd.read_csv('_input/train_transaction.csv')\n",
    "test_id = pd.read_csv('_input/test_identity.csv')\n",
    "test_trn = pd.read_csv('_input/test_transaction.csv')\n",
    "\n",
    "id_cols = train_id.columns.to_list()\n",
    "trn_cols = train_trn.drop('isFraud', axis=1).columns.tolist()\n",
    "\n",
    "X_train = pd.merge(train_trn[['isFraud'] + trn_cols], train_id[id_cols], how='left')\n",
    "X_train = reduce_mem_usage(X_train)\n",
    "\n",
    "X_test = pd.merge(test_trn[trn_cols], test_id[id_cols], how='left')\n",
    "X_test = reduce_mem_usage(X_test)\n",
    "\n",
    "X_train_id = X_train.pop('TransactionID')\n",
    "X_test_id = X_test.pop('TransactionID')\n",
    "\n",
    "del train_id, train_trn, test_id, test_trn\n",
    "gc.collect()\n",
    "\n",
    "all_data = X_train.append(X_test, sort=False).reset_index(drop=True)"
   ]
  },
  {
   "cell_type": "code",
   "execution_count": 8,
   "metadata": {},
   "outputs": [
    {
     "data": {
      "text/plain": [
       "(590540, 433)"
      ]
     },
     "execution_count": 8,
     "metadata": {},
     "output_type": "execute_result"
    }
   ],
   "source": [
    "all_data = X_train.append(X_test, sort=False).reset_index(drop=True)"
   ]
  },
  {
   "cell_type": "code",
   "execution_count": 11,
   "metadata": {
    "collapsed": true
   },
   "outputs": [],
   "source": [
    "vcols = ['V%d' % i for i in range(1, 340)]\n",
    "\n",
    "sc = preprocessing.MinMaxScaler()\n",
    "pca = PCA(n_components=2)\n",
    "\n",
    "vcol_pca = pca.fit_transform(sc.fit_transform(all_data[vcols].fillna(-1)))\n",
    "\n",
    "all_data['_vcol_pca0'] = vcol_pca[:, 0]\n",
    "all_data['_vcol_pca1'] = vcol_pca[:, 1]\n",
    "all_data['_vcol_nulls'] = all_data[vcols].isnull().sum(axis=1)\n",
    "\n",
    "all_data.drop(vcols, axis=1, inplace=True)"
   ]
  },
  {
   "cell_type": "code",
   "execution_count": 12,
   "metadata": {
    "collapsed": true
   },
   "outputs": [],
   "source": [
    "import datetime\n",
    "\n",
    "START_DATE = '2017-12-01'\n",
    "startdate = datetime.datetime.strptime(START_DATE, \"%Y-%m-%d\")\n",
    "all_data['Date'] = all_data['TransactionDT'].apply(lambda x: (startdate + datetime.timedelta(seconds=x)))\n",
    "all_data['_weekday'] = all_data['Date'].dt.dayofweek\n",
    "all_data['_hour'] = all_data['Date'].dt.hour\n",
    "all_data['_day'] = all_data['Date'].dt.day\n",
    "\n",
    "all_data['_weekday'] = all_data['_weekday'].astype(str)\n",
    "all_data['_hour'] = all_data['_hour'].astype(str)\n",
    "all_data['_weekday__hour'] = all_data['_weekday'] + all_data['_hour']\n",
    "\n",
    "cnt_day = all_data['_day'].value_counts()\n",
    "cnt_day = cnt_day / cnt_day.mean()\n",
    "all_data['_count_rate'] = all_data['_day'].map(cnt_day.to_dict())\n",
    "\n",
    "all_data.drop(['TransactionDT','Date','_day'], axis=1, inplace=True)"
   ]
  },
  {
   "cell_type": "code",
   "execution_count": 13,
   "metadata": {
    "collapsed": true
   },
   "outputs": [],
   "source": [
    "all_data['_P_emaildomain__addr1'] = all_data['P_emaildomain'] + '__' + all_data['addr1'].astype(str)\n",
    "all_data['_card1__card2'] = all_data['card1'].astype(str) + '__' + all_data['card2'].astype(str)\n",
    "all_data['_card1__addr1'] = all_data['card1'].astype(str) + '__' + all_data['addr1'].astype(str)\n",
    "all_data['_card2__addr1'] = all_data['card2'].astype(str) + '__' + all_data['addr1'].astype(str)\n",
    "all_data['_card12__addr1'] = all_data['_card1__card2'] + '__' + all_data['addr1'].astype(str)\n",
    "all_data['_card_all__addr1'] = all_data['_card1__card2'] + '__' + all_data['addr1'].astype(str)"
   ]
  },
  {
   "cell_type": "code",
   "execution_count": 14,
   "metadata": {},
   "outputs": [
    {
     "data": {
      "text/html": [
       "<div>\n",
       "<style scoped>\n",
       "    .dataframe tbody tr th:only-of-type {\n",
       "        vertical-align: middle;\n",
       "    }\n",
       "\n",
       "    .dataframe tbody tr th {\n",
       "        vertical-align: top;\n",
       "    }\n",
       "\n",
       "    .dataframe thead th {\n",
       "        text-align: right;\n",
       "    }\n",
       "</style>\n",
       "<table border=\"1\" class=\"dataframe\">\n",
       "  <thead>\n",
       "    <tr style=\"text-align: right;\">\n",
       "      <th></th>\n",
       "      <th>TransactionAmt</th>\n",
       "      <th>_amount_decimal</th>\n",
       "      <th>_amount_decimal_len</th>\n",
       "      <th>_amount_fraction</th>\n",
       "    </tr>\n",
       "  </thead>\n",
       "  <tbody>\n",
       "    <tr>\n",
       "      <th>0</th>\n",
       "      <td>68.500</td>\n",
       "      <td>500</td>\n",
       "      <td>1</td>\n",
       "      <td>0.850</td>\n",
       "    </tr>\n",
       "    <tr>\n",
       "      <th>1</th>\n",
       "      <td>29.000</td>\n",
       "      <td>0</td>\n",
       "      <td>0</td>\n",
       "      <td>0.900</td>\n",
       "    </tr>\n",
       "    <tr>\n",
       "      <th>2</th>\n",
       "      <td>59.000</td>\n",
       "      <td>0</td>\n",
       "      <td>0</td>\n",
       "      <td>0.900</td>\n",
       "    </tr>\n",
       "    <tr>\n",
       "      <th>3</th>\n",
       "      <td>50.000</td>\n",
       "      <td>0</td>\n",
       "      <td>0</td>\n",
       "      <td>0.000</td>\n",
       "    </tr>\n",
       "    <tr>\n",
       "      <th>4</th>\n",
       "      <td>50.000</td>\n",
       "      <td>0</td>\n",
       "      <td>0</td>\n",
       "      <td>0.000</td>\n",
       "    </tr>\n",
       "    <tr>\n",
       "      <th>5</th>\n",
       "      <td>49.000</td>\n",
       "      <td>0</td>\n",
       "      <td>0</td>\n",
       "      <td>0.900</td>\n",
       "    </tr>\n",
       "    <tr>\n",
       "      <th>6</th>\n",
       "      <td>159.000</td>\n",
       "      <td>0</td>\n",
       "      <td>0</td>\n",
       "      <td>0.590</td>\n",
       "    </tr>\n",
       "    <tr>\n",
       "      <th>7</th>\n",
       "      <td>422.500</td>\n",
       "      <td>500</td>\n",
       "      <td>1</td>\n",
       "      <td>0.225</td>\n",
       "    </tr>\n",
       "    <tr>\n",
       "      <th>8</th>\n",
       "      <td>15.000</td>\n",
       "      <td>0</td>\n",
       "      <td>0</td>\n",
       "      <td>0.500</td>\n",
       "    </tr>\n",
       "    <tr>\n",
       "      <th>9</th>\n",
       "      <td>117.000</td>\n",
       "      <td>0</td>\n",
       "      <td>0</td>\n",
       "      <td>0.170</td>\n",
       "    </tr>\n",
       "  </tbody>\n",
       "</table>\n",
       "</div>"
      ],
      "text/plain": [
       "   TransactionAmt  _amount_decimal  _amount_decimal_len  _amount_fraction\n",
       "0          68.500              500                    1             0.850\n",
       "1          29.000                0                    0             0.900\n",
       "2          59.000                0                    0             0.900\n",
       "3          50.000                0                    0             0.000\n",
       "4          50.000                0                    0             0.000\n",
       "5          49.000                0                    0             0.900\n",
       "6         159.000                0                    0             0.590\n",
       "7         422.500              500                    1             0.225\n",
       "8          15.000                0                    0             0.500\n",
       "9         117.000                0                    0             0.170"
      ]
     },
     "execution_count": 14,
     "metadata": {},
     "output_type": "execute_result"
    }
   ],
   "source": [
    "all_data['_amount_decimal'] = ((all_data['TransactionAmt'] - all_data['TransactionAmt'].astype(int)) * 1000).astype(int)\n",
    "all_data['_amount_decimal_len'] = all_data['TransactionAmt'].apply(lambda x: len(re.sub('0+$', '', str(x)).split('.')[1]))\n",
    "all_data['_amount_fraction'] = all_data['TransactionAmt'].apply(lambda x: float('0.'+re.sub('^[0-9]|\\.|0+$', '', str(x))))\n",
    "all_data[['TransactionAmt','_amount_decimal','_amount_decimal_len','_amount_fraction']].head(10)"
   ]
  },
  {
   "cell_type": "code",
   "execution_count": 39,
   "metadata": {
    "collapsed": true
   },
   "outputs": [],
   "source": [
    "cols = ['ProductCD', 'card1', 'card2', 'card5', 'card6', 'P_emaildomain', '_card_all__addr1']\n",
    "\n",
    "# amount mean&std\n",
    "for f in cols:\n",
    "    all_data['_amount_mean_{}'.format(f)] = all_data['TransactionAmt'] / all_data.groupby([f])['TransactionAmt'].transform('mean')\n",
    "    all_data['_amount_std_{}'.format(f)] = all_data['TransactionAmt'] / all_data.groupby([f])['TransactionAmt'].transform('std')\n",
    "    all_data['_amount_pct_{}'.format(f)] = (all_data['TransactionAmt'] - all_data['_amount_mean_{}'.format(f)]) / all_data['_amount_std_{}'.format(f)]\n",
    "#     all_data[f'_amount_mean_{f}'] = all_data['TransactionAmt'] / all_data.groupby([f])['TransactionAmt'].transform('mean')\n",
    "#     all_data[f'_amount_std_{f}'] = all_data['TransactionAmt'] / all_data.groupby([f])['TransactionAmt'].transform('std')\n",
    "#     all_data[f'_amount_pct_{f}'] = (all_data['TransactionAmt'] - all_data[f'_amount_mean_{f}']) / all_data[f'_amount_std_{f}']\n",
    "\n",
    "\n",
    "# freq encoding\n",
    "for f in cols:\n",
    "    vc = all_data[f].value_counts(dropna=False)\n",
    "    all_data['_count_{}'.format(f)] = all_data[f].map(vc)\n",
    "    "
   ]
  },
  {
   "cell_type": "code",
   "execution_count": 40,
   "metadata": {},
   "outputs": [
    {
     "name": "stdout",
     "output_type": "stream",
     "text": [
      "('features :', 137)\n"
     ]
    }
   ],
   "source": [
    "print('features :', all_data.shape[1])"
   ]
  },
  {
   "cell_type": "code",
   "execution_count": 70,
   "metadata": {},
   "outputs": [
    {
     "name": "stdout",
     "output_type": "stream",
     "text": [
      "['ProductCD', 'card4', 'card6', 'P_emaildomain', 'R_emaildomain', 'M1', 'M2', 'M3', 'M4', 'M5', 'M6', 'M7', 'M8', 'M9', 'id_12', 'id_13', 'id_14', 'id_15', 'id_16', 'id_17', 'id_18', 'id_19', 'id_20', 'id_21', 'id_22', 'id_23', 'id_24', 'id_25', 'id_26', 'id_27', 'id_28', 'id_29', 'id_30', 'id_31', 'id_32', 'id_33', 'id_34', 'id_35', 'id_36', 'id_37', 'id_38', 'DeviceType', 'DeviceInfo', '_weekday', '_hour', '_weekday__hour', '_P_emaildomain__addr1', '_card1__card2', '_card1__addr1', '_card2__addr1', '_card12__addr1', '_card_all__addr1']\n"
     ]
    }
   ],
   "source": [
    "_='''\n",
    "cat_cols = ['ProductCD','card1','card2','card3','card4','card5','card6','addr1','addr2','P_emaildomain','R_emaildomain',\n",
    "            'M1','M2','M3','M4','M5','M6','M7','M8','M9','DeviceType','DeviceInfo'] + [f'id_{i}' for i in range(12,39)]\n",
    "'''\n",
    "\n",
    "cat_cols = ['id_{:02d}'.format(i) for i in range(12, 39)]\n",
    "for i in cat_cols:\n",
    "    if i in all_data.columns:\n",
    "        all_data[i] = all_data[i].astype(str)\n",
    "        all_data[i].fillna('unknown', inplace=True)\n",
    "\n",
    "enc_cols = []\n",
    "for i, t in all_data.loc[:, all_data.columns != 'isFraud'].dtypes.iteritems():\n",
    "    if t == object:\n",
    "        enc_cols.append(i)\n",
    "        #df = pd.concat([df, pd.get_dummies(df[i].astype(str), prefix=i)], axis=1)\n",
    "        #df.drop(i, axis=1, inplace=True)\n",
    "        all_data[i] = pd.factorize(all_data[i])[0]\n",
    "        #all_data[i] = all_data[i].astype('category')\n",
    "print(enc_cols)"
   ]
  },
  {
   "cell_type": "code",
   "execution_count": 74,
   "metadata": {
    "collapsed": true
   },
   "outputs": [],
   "source": [
    "X_train = all_data[all_data['isFraud'].notnull()]"
   ]
  },
  {
   "cell_type": "code",
   "execution_count": 75,
   "metadata": {},
   "outputs": [
    {
     "name": "stdout",
     "output_type": "stream",
     "text": [
      "(1097231, 137)\n",
      "(590540, 137)\n"
     ]
    }
   ],
   "source": [
    "print(all_data.shape)\n",
    "print(X_train.shape)"
   ]
  },
  {
   "cell_type": "code",
   "execution_count": 76,
   "metadata": {},
   "outputs": [
    {
     "name": "stdout",
     "output_type": "stream",
     "text": [
      "(506691, 136)\n"
     ]
    }
   ],
   "source": [
    "X_test = all_data[all_data['isFraud'].isnull()].drop('isFraud', axis=1)\n",
    "print X_test.shape"
   ]
  },
  {
   "cell_type": "code",
   "execution_count": 77,
   "metadata": {},
   "outputs": [
    {
     "name": "stdout",
     "output_type": "stream",
     "text": [
      "(590540, 136)\n",
      "(590540,)\n"
     ]
    }
   ],
   "source": [
    "Y_train = X_train.pop('isFraud')\n",
    "print(X_train.shape)\n",
    "print(Y_train.shape)"
   ]
  },
  {
   "cell_type": "code",
   "execution_count": 90,
   "metadata": {},
   "outputs": [
    {
     "name": "stdout",
     "output_type": "stream",
     "text": [
      "CPU times: user 1h 37min 28s, sys: 36.1 s, total: 1h 38min 4s\n",
      "Wall time: 25min 23s\n"
     ]
    }
   ],
   "source": [
    "%%time\n",
    "\n",
    "import lightgbm as lgb\n",
    "\n",
    "params={'learning_rate': 0.01,\n",
    "        'objective': 'binary',\n",
    "        'metric': 'auc',\n",
    "        'num_threads': -1,\n",
    "        'num_leaves': 256,\n",
    "        'verbose': 1,\n",
    "        'random_state': 42,\n",
    "        'bagging_fraction': 1,\n",
    "        'feature_fraction': 0.85,\n",
    "        'n_estimators': 3000\n",
    "       }\n",
    "\n",
    "oof_preds = np.zeros(X_train.shape[0])\n",
    "sub_preds = np.zeros(X_test.shape[0])\n",
    "\n",
    "clf = lgb.LGBMClassifier(**params)\n",
    "clf.fit(X_train, Y_train)\n",
    "oof_preds = clf.predict_proba(X_train, num_iteration=clf.best_iteration_)[:,1]\n",
    "sub_preds = clf.predict_proba(X_test, num_iteration=clf.best_iteration_)[:,1]"
   ]
  },
  {
   "cell_type": "code",
   "execution_count": 91,
   "metadata": {},
   "outputs": [
    {
     "data": {
      "image/png": "[encoded data removed]",
      "text/plain": [
       "<Figure size 432x288 with 1 Axes>"
      ]
     },
     "metadata": {},
     "output_type": "display_data"
    }
   ],
   "source": [
    "fpr, tpr, thresholds = metrics.roc_curve(Y_train, oof_preds)\n",
    "auc = metrics.auc(fpr, tpr)\n",
    "\n",
    "plt.plot(fpr, tpr, label='ROC curve (area = %.3f)' % auc)\n",
    "plt.legend()\n",
    "plt.title('ROC curve')\n",
    "plt.xlabel('False Positive Rate')\n",
    "plt.ylabel('True Positive Rate')\n",
    "plt.grid(True)\n",
    "\n",
    "plt.show()\n"
   ]
  },
  {
   "cell_type": "code",
   "execution_count": 109,
   "metadata": {},
   "outputs": [],
   "source": [
    "def get_importances(clf):\n",
    "    feature_importance = clf.feature_importances_\n",
    "    feature_importance = 100 * feature_importance / feature_importance.max()\n",
    "\n",
    "    sorted_idx = np.argsort(feature_importance)\n",
    "    sorted_idx = sorted_idx[-50:]\n",
    "    pos = np.arange(sorted_idx.shape[0]) + .5\n",
    "\n",
    "    plt.figure(figsize=(10,12))\n",
    "    plt.barh(pos, feature_importance[sorted_idx], align='center')\n",
    "    plt.yticks(pos, X_train.columns[sorted_idx])\n",
    "    plt.xlabel('Relative Importance')\n",
    "    plt.title('Variable Importance')\n",
    "    plt.show()\n",
    "\n",
    "    data = pd.DataFrame(feature_importance[sorted_idx], index=X_train.columns[sorted_idx])\n",
    "    return data"
   ]
  },
  {
   "cell_type": "code",
   "execution_count": 111,
   "metadata": {},
   "outputs": [
    {
     "data": {
      "image/png": "[encoded data removed]",
      "text/plain": [
       "<Figure size 720x864 with 1 Axes>"
      ]
     },
     "metadata": {},
     "output_type": "display_data"
    }
   ],
   "source": [
    "_ = get_importances(clf)"
   ]
  },
  {
   "cell_type": "code",
   "execution_count": 98,
   "metadata": {
    "collapsed": true
   },
   "outputs": [],
   "source": [
    "def fast_auc(y_true, y_prob):\n",
    "    y_true = np.asarray(y_true)\n",
    "    y_true = y_true[np.argsort(y_prob)]\n",
    "    nfalse = 0.\n",
    "    auc = 0.\n",
    "    n = len(y_true)\n",
    "    for i in range(n):\n",
    "        y_i = y_true[i]\n",
    "        nfalse += (1 - y_i)\n",
    "        auc += y_i * nfalse\n",
    "    auc /= (nfalse * (n - nfalse))\n",
    "    return auc"
   ]
  },
  {
   "cell_type": "code",
   "execution_count": 99,
   "metadata": {},
   "outputs": [
    {
     "data": {
      "text/plain": [
       "0.9999994716938135"
      ]
     },
     "execution_count": 99,
     "metadata": {},
     "output_type": "execute_result"
    }
   ],
   "source": [
    "fast_auc(Y_train, oof_preds)"
   ]
  },
  {
   "cell_type": "code",
   "execution_count": 106,
   "metadata": {},
   "outputs": [
    {
     "data": {
      "text/html": [
       "<div>\n",
       "<style scoped>\n",
       "    .dataframe tbody tr th:only-of-type {\n",
       "        vertical-align: middle;\n",
       "    }\n",
       "\n",
       "    .dataframe tbody tr th {\n",
       "        vertical-align: top;\n",
       "    }\n",
       "\n",
       "    .dataframe thead th {\n",
       "        text-align: right;\n",
       "    }\n",
       "</style>\n",
       "<table border=\"1\" class=\"dataframe\">\n",
       "  <thead>\n",
       "    <tr style=\"text-align: right;\">\n",
       "      <th></th>\n",
       "      <th>addr1</th>\n",
       "      <th>addr2</th>\n",
       "    </tr>\n",
       "  </thead>\n",
       "  <tbody>\n",
       "    <tr>\n",
       "      <th>0</th>\n",
       "      <td>315.000</td>\n",
       "      <td>87.000</td>\n",
       "    </tr>\n",
       "    <tr>\n",
       "      <th>1</th>\n",
       "      <td>325.000</td>\n",
       "      <td>87.000</td>\n",
       "    </tr>\n",
       "    <tr>\n",
       "      <th>2</th>\n",
       "      <td>330.000</td>\n",
       "      <td>87.000</td>\n",
       "    </tr>\n",
       "    <tr>\n",
       "      <th>3</th>\n",
       "      <td>476.000</td>\n",
       "      <td>87.000</td>\n",
       "    </tr>\n",
       "    <tr>\n",
       "      <th>4</th>\n",
       "      <td>420.000</td>\n",
       "      <td>87.000</td>\n",
       "    </tr>\n",
       "  </tbody>\n",
       "</table>\n",
       "</div>"
      ],
      "text/plain": [
       "    addr1  addr2\n",
       "0 315.000 87.000\n",
       "1 325.000 87.000\n",
       "2 330.000 87.000\n",
       "3 476.000 87.000\n",
       "4 420.000 87.000"
      ]
     },
     "execution_count": 106,
     "metadata": {},
     "output_type": "execute_result"
    }
   ],
   "source": [
    "X_train[['addr1', 'addr2']].head()"
   ]
  },
  {
   "cell_type": "code",
   "execution_count": 143,
   "metadata": {},
   "outputs": [],
   "source": [
    "import time\n",
    "\n",
    "def mysub(sub_id, sub_preds):\n",
    "    dirname = '_output/'\n",
    "    timestr = time.strftime('%Y%m%d-%H%M%S')\n",
    "    filename = dirname + 'submission_' + timestr + '.csv'\n",
    "\n",
    "    submission = pd.DataFrame()\n",
    "    submission['TransactionID'] = sub_id\n",
    "    submission['isFraud'] = sub_preds\n",
    "    submission.to_csv(filename, index=False)\n",
    "    return \n"
   ]
  },
  {
   "cell_type": "code",
   "execution_count": 134,
   "metadata": {
    "collapsed": true
   },
   "outputs": [],
   "source": [
    "def eval_auc (preds, dtrain):\n",
    "    labels = dtrain.get_label()    \n",
    "    return 'auc', fast_auc(labels, preds), True\n"
   ]
  },
  {
   "cell_type": "code",
   "execution_count": 184,
   "metadata": {},
   "outputs": [],
   "source": [
    "def cross_validate_lgb(param, x_train, y_train, x_test, kf,  \n",
    "                       num_boost_round, \n",
    "                       fname='submission', nseed=1, verbose_eval=1,\n",
    "                       featimp=False, save_pred=False,\n",
    "                       use_auc=True,\n",
    "                       early_stopping_rounds=150,\n",
    "                       use_all_folds=True,\n",
    "                       ):\n",
    "    \n",
    "    if save_pred:\n",
    "        now = datetime.datetime.now()\n",
    "        now = str(now.strftime('%Y-%m-%d-%H-%M-%S'))\n",
    "        print 'started at:', now\n",
    "        print 'num bagging seeds:', nseed\n",
    "        fname = '_output/'+fname+'_'+now\n",
    "        print 'data size:', x_train.shape, x_test.shape\n",
    "        \n",
    "    \n",
    "    nfold = kf.n_splits\n",
    "    print 'nfold:', nfold\n",
    "        \n",
    "    val_pred = np.zeros((x_train.shape[0], nseed))\n",
    "    test_pred = np.zeros((x_test.shape[0], nfold * nseed))\n",
    "        \n",
    "    print 'num features:', x_train.shape[1]\n",
    "    \n",
    "    d_train = lgb.Dataset(x_train.values, label=y_train)\n",
    "    if use_auc:\n",
    "        metric = 'auc'\n",
    "    else:\n",
    "        metric = None\n",
    "    history = lgb.cv(params, d_train, num_boost_round=num_boost_round, \n",
    "                     folds=kf, metrics=metric, fobj=None,\n",
    "                     early_stopping_rounds=early_stopping_rounds, \n",
    "                     verbose_eval=verbose_eval, show_stdv=True, seed=0)\n",
    "    if use_auc:\n",
    "        best_round = np.argmax(history['auc-mean'])\n",
    "    else:\n",
    "        best_round = np.argmin(history['binary_logloss-mean'])\n",
    "    print 'best_round:', best_round\n",
    "    if best_round == 0:\n",
    "        best_round = 1\n",
    "        \n",
    "    bsts = []\n",
    "    for i, (train_index, test_index) in enumerate(kf.split(x_train, y_train)):\n",
    "        print 'train fold', i,\n",
    "        x_train_kf, x_test_kf = x_train.loc[train_index,:].copy(), x_train.loc[test_index,:].copy()\n",
    "        y_train_kf, y_test_kf = y_train[train_index], y_train[test_index]\n",
    "\n",
    "        d_train_kf = lgb.Dataset(x_train_kf, label=y_train_kf)\n",
    "        d_test_kf = lgb.Dataset(x_test_kf, label=y_test_kf)\n",
    "        \n",
    "        train_fold_pred = 0\n",
    "        \n",
    "        feval = None\n",
    "        if use_auc:\n",
    "            feval=eval_auc\n",
    "        for seed in range(nseed):\n",
    "            param['seed'] = seed\n",
    "            \n",
    "            bst = lgb.train(param, d_train_kf, num_boost_round=best_round,\n",
    "                            verbose_eval=None,\n",
    "                            early_stopping_rounds=None, \n",
    "                            )\n",
    "\n",
    "            bsts.append(bst)\n",
    "            pred = bst.predict(x_test_kf)\n",
    "            val_pred[test_index, seed] = (pred)\n",
    "            pred = bst.predict(x_test)\n",
    "            test_pred[:, i*nseed + seed] = (pred)\n",
    "            train_fold_pred = train_fold_pred + bst.predict(x_train_kf)\n",
    "            print '.',\n",
    "            \n",
    "        train_fold_pred /= nseed\n",
    "        print 'train auc: %0.5f' % fast_auc(y_train_kf, train_fold_pred),\n",
    "        val_fold_pred = np.mean(val_pred[test_index,:], axis=1)  \n",
    "        print 'val auc: %0.5f' % fast_auc(y_test_kf, val_fold_pred)\n",
    "        del d_train_kf\n",
    "        del d_test_kf\n",
    "        gc.collect()\n",
    "        if featimp:\n",
    "            importances = get_importances(bsts)\n",
    "            plt.show()\n",
    "        else:\n",
    "            importances = None\n",
    "        if use_all_folds == False:\n",
    "            break\n",
    "    \n",
    "    \n",
    "    print 'saving raw train prediction to:', fname+'_train.npy'\n",
    "    np.save(fname+'_train.npy', val_pred)\n",
    "    print 'saving raw test prediction to:', fname+'_test.npy'\n",
    "    np.save(fname+'_test.npy', test_pred)\n",
    "    \n",
    "    epsilon = 1e-6\n",
    "\n",
    "    train_expit = (val_pred + epsilon - val_pred.ravel().min())\n",
    "    test_expit = (test_pred + epsilon - test_pred.ravel().min())\n",
    "    train_expit /= (epsilon + train_expit.ravel().max())\n",
    "    test_expit /= (epsilon + test_expit.ravel().max())\n",
    "    \n",
    "    train_pred_mean = np.mean(train_expit, axis=1)\n",
    "    test_pred_mean = np.mean(test_expit, axis=1)        \n",
    "    print 'cv       mean auc:%0.5f' % fast_auc(y_train, train_pred_mean)\n",
    "    print 'saving mean test prediction ...'\n",
    "    mysub(X_test_id, test_pred.mean(axis=1))\n",
    "\n",
    "    if featimp:\n",
    "        importances = get_importances(bsts)\n",
    "    else:\n",
    "        importances = None\n",
    "\n",
    "    return importances, val_pred, test_pred, bsts, fname\n"
   ]
  },
  {
   "cell_type": "code",
   "execution_count": 127,
   "metadata": {},
   "outputs": [],
   "source": [
    "kf = StratifiedKFold(5, shuffle=True, random_state=7)"
   ]
  },
  {
   "cell_type": "code",
   "execution_count": 130,
   "metadata": {
    "collapsed": true
   },
   "outputs": [],
   "source": [
    "params={'learning_rate': 0.01,\n",
    "        'objective': 'binary',\n",
    "        'metric': 'auc',\n",
    "        'num_threads': -1,\n",
    "        'num_leaves': 256,\n",
    "        'verbose': 1,\n",
    "        'random_state': 42,\n",
    "        'bagging_fraction': 1,\n",
    "        'feature_fraction': 0.85\n",
    "       }"
   ]
  },
  {
   "cell_type": "code",
   "execution_count": 129,
   "metadata": {},
   "outputs": [
    {
     "data": {
      "text/plain": [
       "(506691, 136)"
      ]
     },
     "execution_count": 129,
     "metadata": {},
     "output_type": "execute_result"
    }
   ],
   "source": [
    "X_test.shape"
   ]
  },
  {
   "cell_type": "code",
   "execution_count": 136,
   "metadata": {},
   "outputs": [
    {
     "name": "stdout",
     "output_type": "stream",
     "text": [
      "started at: 2019-09-30-17-30-16\n",
      "num bagging seeds: 1\n",
      "(590540, 136) (506691, 136)\n",
      "nfold 5\n",
      "num features: 136\n",
      "[100]\tcv_agg's auc: 0.916853 + 0.00298893\n",
      "[200]\tcv_agg's auc: 0.938651 + 0.00245428\n",
      "[300]\tcv_agg's auc: 0.950914 + 0.00185262\n",
      "[400]\tcv_agg's auc: 0.958642 + 0.00168121\n",
      "[500]\tcv_agg's auc: 0.963191 + 0.00162154\n",
      "[600]\tcv_agg's auc: 0.965952 + 0.00160668\n",
      "[700]\tcv_agg's auc: 0.967645 + 0.00168477\n",
      "[800]\tcv_agg's auc: 0.968977 + 0.00174784\n",
      "[900]\tcv_agg's auc: 0.969973 + 0.00175295\n",
      "[1000]\tcv_agg's auc: 0.970819 + 0.00171146\n",
      "[1100]\tcv_agg's auc: 0.971533 + 0.00168587\n",
      "[1200]\tcv_agg's auc: 0.972175 + 0.0016138\n",
      "[1300]\tcv_agg's auc: 0.972763 + 0.00155297\n",
      "[1400]\tcv_agg's auc: 0.973224 + 0.00149501\n",
      "[1500]\tcv_agg's auc: 0.973647 + 0.00146789\n",
      "[1600]\tcv_agg's auc: 0.974016 + 0.00143024\n",
      "[1700]\tcv_agg's auc: 0.97437 + 0.00142256\n",
      "[1800]\tcv_agg's auc: 0.974698 + 0.00143554\n",
      "[1900]\tcv_agg's auc: 0.974929 + 0.00142628\n",
      "[2000]\tcv_agg's auc: 0.975184 + 0.00141259\n",
      "[2100]\tcv_agg's auc: 0.975365 + 0.001417\n",
      "[2200]\tcv_agg's auc: 0.975528 + 0.00144286\n",
      "[2300]\tcv_agg's auc: 0.975672 + 0.00144953\n",
      "[2400]\tcv_agg's auc: 0.97582 + 0.00143457\n",
      "[2500]\tcv_agg's auc: 0.975947 + 0.00141661\n",
      "[2600]\tcv_agg's auc: 0.976038 + 0.00142343\n",
      "[2700]\tcv_agg's auc: 0.976113 + 0.00142418\n",
      "[2800]\tcv_agg's auc: 0.97618 + 0.00141129\n",
      "[2900]\tcv_agg's auc: 0.976254 + 0.00138935\n",
      "[3000]\tcv_agg's auc: 0.976298 + 0.00137792\n",
      "('best_round:', 2986)\n",
      "('train fold', 0)\n",
      "('.',)\n",
      "train auc: 1.00000 val auc: 0.97809\n",
      "('train fold', 1)\n",
      "('.',)\n",
      "train auc: 1.00000 val auc: 0.97572\n",
      "('train fold', 2)\n",
      "('.',)\n",
      "train auc: 1.00000 val auc: 0.97690\n",
      "('train fold', 3)\n",
      "('.',)\n",
      "train auc: 1.00000 val auc: 0.97672\n",
      "('train fold', 4)\n",
      "('.',)\n",
      "train auc: 1.00000 val auc: 0.97418\n",
      "saving raw train prediction to: _output/submission_2019-09-30-17-30-16_train.npy\n",
      "saving raw test prediction to: _output/submission_2019-09-30-17-30-16_test.npy\n",
      "cv       mean auc:0.97631\n"
     ]
    },
    {
     "data": {
      "text/plain": [
       "(None, array([[0.00736287],\n",
       "        [0.00176782],\n",
       "        [0.00133708],\n",
       "        ...,\n",
       "        [0.00062533],\n",
       "        [0.00490484],\n",
       "        [0.00223512]]), array([[4.57001837e-05, 3.81059995e-05, 2.55988638e-05, 3.94766998e-05,\n",
       "         3.42642070e-05],\n",
       "        [2.39457302e-04, 1.68437239e-04, 1.55127461e-04, 3.48715415e-04,\n",
       "         7.09875891e-04],\n",
       "        [1.06423001e-04, 1.99531106e-04, 1.88613484e-04, 2.72743792e-04,\n",
       "         1.30616164e-04],\n",
       "        ...,\n",
       "        [2.05005887e-03, 1.94377529e-03, 4.11009631e-03, 2.82361748e-03,\n",
       "         2.25511622e-03],\n",
       "        [3.28091163e-03, 1.35384294e-03, 3.39630113e-03, 1.76510399e-03,\n",
       "         1.29444257e-03],\n",
       "        [1.61673678e-03, 1.03142362e-03, 5.39924119e-04, 7.42636037e-04,\n",
       "         1.17326492e-03]]), [<lightgbm.basic.Booster at 0x11a075090>,\n",
       "  <lightgbm.basic.Booster at 0x11a075310>,\n",
       "  <lightgbm.basic.Booster at 0x11a075150>,\n",
       "  <lightgbm.basic.Booster at 0x11a075a10>,\n",
       "  <lightgbm.basic.Booster at 0x11a075750>], '_output/submission_2019-09-30-17-30-16')"
      ]
     },
     "execution_count": 136,
     "metadata": {},
     "output_type": "execute_result"
    }
   ],
   "source": [
    "(importances_reglinear, train_pred_reglinear, test_pred_reglinear, bsts, fname_save)\n",
    "= cross_validate_lgb(params, X_train, Y_train, X_test, kf,  \n",
    "                     num_boost_round=3000, \n",
    "                     verbose_eval=100,\n",
    "                     featimp=False, save_pred=True,\n",
    "                     use_auc=True,\n",
    "                     early_stopping_rounds=150\n",
    "                     )"
   ]
  },
  {
   "cell_type": "code",
   "execution_count": 138,
   "metadata": {},
   "outputs": [],
   "source": [
    "preds = np.load('_output/submission_2019-09-30-17-30-16_test.npy')"
   ]
  },
  {
   "cell_type": "code",
   "execution_count": 142,
   "metadata": {},
   "outputs": [
    {
     "data": {
      "text/plain": [
       "(506691,)"
      ]
     },
     "execution_count": 142,
     "metadata": {},
     "output_type": "execute_result"
    }
   ],
   "source": [
    "test_preds = preds.mean(axis=1)\n",
    "test_preds.shape"
   ]
  },
  {
   "cell_type": "code",
   "execution_count": 145,
   "metadata": {},
   "outputs": [],
   "source": [
    "mysub(X_test_id, test_preds)"
   ]
  },
  {
   "cell_type": "code",
   "execution_count": 156,
   "metadata": {},
   "outputs": [
    {
     "name": "stdout",
     "output_type": "stream",
     "text": [
      "    dist1  dist2\n",
      "0  19.000    nan\n",
      "1     nan    nan\n",
      "2 287.000    nan\n",
      "3     nan    nan\n",
      "4     nan    nan\n",
      "5  36.000    nan\n",
      "6   0.000    nan\n",
      "7     nan    nan\n",
      "8     nan    nan\n",
      "9  19.000    nan\n",
      "dist1    float16\n",
      "dist2    float16\n",
      "dtype: object\n"
     ]
    }
   ],
   "source": [
    "cols = ['dist1', 'dist2']\n",
    "\n",
    "print X_train[cols].head(10), '\\n'\n",
    "print X_train[cols].dtypes\n"
   ]
  },
  {
   "cell_type": "code",
   "execution_count": 157,
   "metadata": {
    "collapsed": true
   },
   "outputs": [],
   "source": [
    "X_train['_card_n'] = X_train['card1'].astype(str) + '__' + X_train['card2'].astype(str) + '__' + X_train['card3'].astype(str) + '__' + X_train['card5'].astype(str)\n",
    "X_test['_card_n'] = X_test['card1'].astype(str) + '__' + X_test['card2'].astype(str) + '__' + X_test['card3'].astype(str) + '__' + X_test['card5'].astype(str)"
   ]
  },
  {
   "cell_type": "code",
   "execution_count": 158,
   "metadata": {
    "collapsed": true
   },
   "outputs": [],
   "source": [
    "cols = ['_card_n']\n",
    "\n",
    "# amount mean&std\n",
    "# for f in cols:\n",
    "#     all_data['_amount_mean_{}'.format(f)] = all_data['TransactionAmt'] / all_data.groupby([f])['TransactionAmt'].transform('mean')\n",
    "#     all_data['_amount_std_{}'.format(f)] = all_data['TransactionAmt'] / all_data.groupby([f])['TransactionAmt'].transform('std')\n",
    "#     all_data['_amount_pct_{}'.format(f)] = (all_data['TransactionAmt'] - all_data['_amount_mean_{}'.format(f)]) / all_data['_amount_std_{}'.format(f)]\n",
    "\n",
    "\n",
    "# freq encoding\n",
    "for f in cols:\n",
    "    vc = X_train[f].value_counts(dropna=False)\n",
    "    X_train['_count_{}'.format(f)] = X_train[f].map(vc)\n",
    "    X_test['_count_{}'.format(f)] = X_test[f].map(vc) \n",
    "    \n"
   ]
  },
  {
   "cell_type": "code",
   "execution_count": 175,
   "metadata": {},
   "outputs": [],
   "source": [
    "df = X_train['_card_n'].append(X_test['_card_n'])\n",
    "df = pd.factorize(df)[0]\n",
    "X_train['_card_n'] = df[:len(X_train)]\n",
    "X_test['_card_n'] = df[len(X_train):]"
   ]
  },
  {
   "cell_type": "code",
   "execution_count": 183,
   "metadata": {},
   "outputs": [
    {
     "name": "stdout",
     "output_type": "stream",
     "text": [
      "started at: 2019-10-01-07-48-28\n",
      "num bagging seeds: 1\n",
      "data size: (590540, 138) (506691, 139)\n",
      "nfold: 5\n",
      "num features: 138\n",
      "[100]\tcv_agg's auc: 0.918142 + 0.00326373\n",
      "[200]\tcv_agg's auc: 0.938791 + 0.00227027\n",
      "[300]\tcv_agg's auc: 0.951133 + 0.00139617\n",
      "[400]\tcv_agg's auc: 0.95903 + 0.00133426\n",
      "[500]\tcv_agg's auc: 0.963421 + 0.00133985\n",
      "[600]\tcv_agg's auc: 0.966125 + 0.00135139\n",
      "[700]\tcv_agg's auc: 0.967843 + 0.00135223\n",
      "[800]\tcv_agg's auc: 0.969153 + 0.0014059\n",
      "[900]\tcv_agg's auc: 0.970183 + 0.00143371\n",
      "[1000]\tcv_agg's auc: 0.971024 + 0.00144205\n",
      "[1100]\tcv_agg's auc: 0.9717 + 0.00139779\n",
      "[1200]\tcv_agg's auc: 0.972319 + 0.00135776\n",
      "[1300]\tcv_agg's auc: 0.972872 + 0.00134488\n",
      "[1400]\tcv_agg's auc: 0.973363 + 0.00132062\n",
      "[1500]\tcv_agg's auc: 0.973802 + 0.00130464\n",
      "[1600]\tcv_agg's auc: 0.974215 + 0.00127528\n",
      "[1700]\tcv_agg's auc: 0.974516 + 0.00126304\n",
      "[1800]\tcv_agg's auc: 0.974804 + 0.00125056\n",
      "[1900]\tcv_agg's auc: 0.975043 + 0.00128151\n",
      "[2000]\tcv_agg's auc: 0.975269 + 0.00133459\n",
      "[2100]\tcv_agg's auc: 0.975453 + 0.00135098\n",
      "[2200]\tcv_agg's auc: 0.975632 + 0.00134665\n",
      "[2300]\tcv_agg's auc: 0.975786 + 0.0013641\n",
      "[2400]\tcv_agg's auc: 0.975905 + 0.00137005\n",
      "[2500]\tcv_agg's auc: 0.976013 + 0.00134287\n",
      "[2600]\tcv_agg's auc: 0.97611 + 0.00131166\n",
      "[2700]\tcv_agg's auc: 0.976202 + 0.00129693\n",
      "[2800]\tcv_agg's auc: 0.976284 + 0.0012646\n",
      "[2900]\tcv_agg's auc: 0.976355 + 0.00124423\n",
      "[3000]\tcv_agg's auc: 0.976402 + 0.00124701\n",
      "('best_round:', 2996)\n",
      "('train fold', 0)\n",
      "('.',)\n",
      "train auc: 1.00000 val auc: 0.97806\n",
      "('train fold', 1)\n",
      "('.',)\n",
      "train auc: 1.00000 val auc: 0.97588\n",
      "('train fold', 2)\n",
      "('.',)\n",
      "train auc: 1.00000 val auc: 0.97656\n",
      "('train fold', 3)\n",
      "('.',)\n",
      "train auc: 1.00000 val auc: 0.97665\n",
      "('train fold', 4)\n",
      "('.',)\n",
      "train auc: 1.00000 val auc: 0.97434\n",
      "saving raw train prediction to: _output/submission_2019-10-01-07-48-28_train.npy\n",
      "saving raw test prediction to: _output/submission_2019-10-01-07-48-28_test.npy\n",
      "cv       mean auc:0.97629\n",
      "saving mean test prediction ...\n"
     ]
    }
   ],
   "source": [
    "(importances_reglinear, train_pred_reglinear, test_pred_reglinear, bsts, fname_save)= cross_validate_lgb(params, X_train, Y_train, X_test, kf,  \n",
    "                     num_boost_round=3000, \n",
    "                     verbose_eval=100,\n",
    "                     featimp=False, save_pred=True,\n",
    "                     use_auc=True,\n",
    "                     early_stopping_rounds=150\n",
    "                     )"
   ]
  },
  {
   "cell_type": "code",
   "execution_count": null,
   "metadata": {
    "collapsed": true
   },
   "outputs": [],
   "source": [
    "UTC -3 to UTC +5"
   ]
  },
  {
   "cell_type": "code",
   "execution_count": 185,
   "metadata": {},
   "outputs": [
    {
     "name": "stdout",
     "output_type": "stream",
     "text": [
      "started at: 2019-10-01-20-33-50\n",
      "num bagging seeds: 1\n",
      "data size: (590540, 138) (506691, 139)\n",
      "nfold: 5\n",
      "num features: 138\n",
      "[200]\tcv_agg's auc: 0.938791 + 0.00227027\n",
      "[400]\tcv_agg's auc: 0.95903 + 0.00133426\n",
      "[600]\tcv_agg's auc: 0.966125 + 0.00135139\n",
      "[800]\tcv_agg's auc: 0.969153 + 0.0014059\n",
      "[1000]\tcv_agg's auc: 0.971024 + 0.00144205\n",
      "[1200]\tcv_agg's auc: 0.972319 + 0.00135776\n",
      "[1400]\tcv_agg's auc: 0.973363 + 0.00132062\n",
      "[1600]\tcv_agg's auc: 0.974215 + 0.00127528\n",
      "[1800]\tcv_agg's auc: 0.974804 + 0.00125056\n",
      "[2000]\tcv_agg's auc: 0.975269 + 0.00133459\n",
      "[2200]\tcv_agg's auc: 0.975632 + 0.00134665\n",
      "[2400]\tcv_agg's auc: 0.975905 + 0.00137005\n",
      "[2600]\tcv_agg's auc: 0.97611 + 0.00131166\n",
      "[2800]\tcv_agg's auc: 0.976284 + 0.0012646\n",
      "[3000]\tcv_agg's auc: 0.976402 + 0.00124701\n",
      "[3200]\tcv_agg's auc: 0.976481 + 0.00120186\n",
      "[3400]\tcv_agg's auc: 0.976552 + 0.00121137\n",
      "[3600]\tcv_agg's auc: 0.976619 + 0.0012067\n",
      "[3800]\tcv_agg's auc: 0.976643 + 0.00125521\n",
      "[4000]\tcv_agg's auc: 0.976722 + 0.00125624\n",
      "[4200]\tcv_agg's auc: 0.976728 + 0.00126505\n",
      "best_round: 4233\n",
      "train fold 0 . train auc: 1.00000 val auc: 0.97831\n",
      "train fold 1 . train auc: 1.00000 val auc: 0.97663\n",
      "train fold 2 . train auc: 1.00000 val auc: 0.97734\n",
      "train fold 3 . train auc: 1.00000 val auc: 0.97696\n",
      "train fold 4 . train auc: 1.00000 val auc: 0.97481\n",
      "saving raw train prediction to: _output/submission_2019-10-01-20-33-50_train.npy\n",
      "saving raw test prediction to: _output/submission_2019-10-01-20-33-50_test.npy\n",
      "cv       mean auc:0.97680\n",
      "saving mean test prediction ...\n"
     ]
    }
   ],
   "source": [
    "(importances_reglinear, train_pred_reglinear, test_pred_reglinear, bsts, fname_save)= cross_validate_lgb(params, X_train, Y_train, X_test, kf,  \n",
    "                     num_boost_round=5000, \n",
    "                     verbose_eval=200,\n",
    "                     featimp=False, save_pred=True,\n",
    "                     use_auc=True,\n",
    "                     early_stopping_rounds=150\n",
    "                     )"
   ]
  },
  {
   "cell_type": "code",
   "execution_count": null,
   "metadata": {
    "collapsed": true
   },
   "outputs": [],
   "source": []
  }
 ],
 "metadata": {
  "kernelspec": {
   "display_name": "_venv3",
   "language": "python",
   "name": "_venv3"
  },
  "language_info": {
   "codemirror_mode": {
    "name": "ipython",
    "version": 2
   },
   "file_extension": ".py",
   "mimetype": "text/x-python",
   "name": "python",
   "nbconvert_exporter": "python",
   "pygments_lexer": "ipython2",
   "version": "2.7.10"
  }
 },
 "nbformat": 4,
 "nbformat_minor": 2
}
