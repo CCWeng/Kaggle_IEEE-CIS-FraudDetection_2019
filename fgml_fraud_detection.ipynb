{
 "cells": [
  {
   "cell_type": "markdown",
   "metadata": {},
   "source": [
    "# Kaggle IEEE-CIS-FraudDetection Competition\n",
    "\n",
    "* Data: [https://www.kaggle.com/c/ieee-fraud-detection/data](https://www.kaggle.com/c/ieee-fraud-detection/data)\n",
    "* Feature Engineering and Model Learning Part"
   ]
  },
  {
   "cell_type": "code",
   "execution_count": 1,
   "metadata": {
    "collapsed": true
   },
   "outputs": [],
   "source": [
    "import numpy as np\n",
    "import pandas as pd\n",
    "import matplotlib.pyplot as plt\n",
    "import seaborn as sns\n",
    "import gc,os,sys\n",
    "import re\n",
    "\n",
    "from sklearn import metrics, preprocessing\n",
    "from sklearn.model_selection import StratifiedKFold\n",
    "from sklearn.decomposition import PCA, KernelPCA\n",
    "from sklearn.cluster import KMeans\n",
    "from tqdm import tqdm\n",
    "\n",
    "import warnings\n",
    "warnings.filterwarnings('ignore')\n",
    "\n",
    "sns.set_style('darkgrid')\n",
    "\n",
    "pd.options.display.float_format = '{:,.3f}'.format"
   ]
  },
  {
   "cell_type": "code",
   "execution_count": 2,
   "metadata": {
    "collapsed": true
   },
   "outputs": [],
   "source": [
    "# Memory saving function credit to https://www.kaggle.com/gemartin/load-data-reduce-memory-usage\n",
    "def reduce_mem_usage(df):\n",
    "    \"\"\" iterate through all the columns of a dataframe and modify the data type\n",
    "        to reduce memory usage.\n",
    "    \"\"\"\n",
    "    start_mem = df.memory_usage().sum() / 1024**2\n",
    "    \n",
    "    for col in df.columns:\n",
    "        col_type = df[col].dtype\n",
    "        \n",
    "        if col_type != object:\n",
    "            c_min = df[col].min()\n",
    "            c_max = df[col].max()\n",
    "            if str(col_type)[:3] == 'int':\n",
    "                if c_min > np.iinfo(np.int8).min and c_max < np.iinfo(np.int8).max:\n",
    "                    df[col] = df[col].astype(np.int8)\n",
    "                elif c_min > np.iinfo(np.int16).min and c_max < np.iinfo(np.int16).max:\n",
    "                    df[col] = df[col].astype(np.int16)\n",
    "                elif c_min > np.iinfo(np.int32).min and c_max < np.iinfo(np.int32).max:\n",
    "                    df[col] = df[col].astype(np.int32)\n",
    "                elif c_min > np.iinfo(np.int64).min and c_max < np.iinfo(np.int64).max:\n",
    "                    df[col] = df[col].astype(np.int64)  \n",
    "            else:\n",
    "                if c_min > np.finfo(np.float16).min and c_max < np.finfo(np.float16).max:\n",
    "                    df[col] = df[col].astype(np.float16)\n",
    "                elif c_min > np.finfo(np.float32).min and c_max < np.finfo(np.float32).max:\n",
    "                    df[col] = df[col].astype(np.float32)\n",
    "                else:\n",
    "                    df[col] = df[col].astype(np.float64)\n",
    "        #else:\n",
    "            #df[col] = df[col].astype('category')\n",
    "\n",
    "    end_mem = df.memory_usage().sum() / 1024**2\n",
    "    print('Memory usage of dataframe is {:.2f} MB --> {:.2f} MB (Decreased by {:.1f}%)'.format(\n",
    "        start_mem, end_mem, 100 * (start_mem - end_mem) / start_mem))\n",
    "    return df"
   ]
  },
  {
   "cell_type": "code",
   "execution_count": 4,
   "metadata": {},
   "outputs": [
    {
     "name": "stdout",
     "output_type": "stream",
     "text": [
      "Memory usage of dataframe is 1959.00 MB --> 650.00 MB (Decreased by 66.0%)\n",
      "Memory usage of dataframe is 1677.00 MB --> 565.00 MB (Decreased by 66.0%)\n"
     ]
    }
   ],
   "source": [
    "trn_id = pd.read_csv('_input/train_identity.csv')\n",
    "trn_tr = pd.read_csv('_input/train_transaction.csv')\n",
    "tst_id = pd.read_csv('_input/test_identity.csv')\n",
    "tst_tr = pd.read_csv('_input/test_transaction.csv')\n",
    "\n",
    "id_cols = trn_id.columns.to_list()\n",
    "trn_cols = trn_tr.drop('isFraud', axis=1).columns.tolist()\n",
    "\n",
    "X_trn = pd.merge(trn_tr[['isFraud'] + trn_cols], trn_id[id_cols], how='left')\n",
    "X_trn = reduce_mem_usage(X_trn)\n",
    "\n",
    "X_tst = pd.merge(tst_tr[trn_cols], tst_id[id_cols], how='left')\n",
    "X_tst = reduce_mem_usage(X_tst)\n",
    "\n",
    "X_trn_id = X_trn.pop('TransactionID')\n",
    "X_tst_id = X_tst.pop('TransactionID')\n",
    "\n",
    "del trn_id, trn_tr, tst_id, tst_tr\n",
    "gc.collect()\n",
    "\n",
    "X_all = X_trn.append(X_tst, sort=False).reset_index(drop=True)"
   ]
  },
  {
   "cell_type": "code",
   "execution_count": 6,
   "metadata": {},
   "outputs": [
    {
     "name": "stdout",
     "output_type": "stream",
     "text": [
      "(1097231, 433)\n"
     ]
    }
   ],
   "source": [
    "print(X_all.shape)"
   ]
  },
  {
   "cell_type": "code",
   "execution_count": 7,
   "metadata": {
    "collapsed": true
   },
   "outputs": [],
   "source": [
    "vcols = ['V%d' % i for i in range(1, 340)]\n",
    "\n",
    "sc = preprocessing.MinMaxScaler()\n",
    "pca = PCA(n_components=2)\n",
    "\n",
    "vcol_pca = pca.fit_transform(sc.fit_transform(X_all[vcols].fillna(-1)))\n",
    "\n",
    "X_all['_vcol_pca0'] = vcol_pca[:, 0]\n",
    "X_all['_vcol_pca1'] = vcol_pca[:, 1]\n",
    "X_all['_vcol_nulls'] = X_all[vcols].isnull().sum(axis=1)\n",
    "\n",
    "X_all.drop(vcols, axis=1, inplace=True)"
   ]
  },
  {
   "cell_type": "code",
   "execution_count": 8,
   "metadata": {
    "collapsed": true
   },
   "outputs": [],
   "source": [
    "import datetime\n",
    "\n",
    "START_DATE = '2017-12-01'\n",
    "startdate = datetime.datetime.strptime(START_DATE, \"%Y-%m-%d\")\n",
    "X_all['Date'] = X_all['TransactionDT'].apply(lambda x: (startdate + datetime.timedelta(seconds=x)))\n",
    "X_all['_weekday'] = X_all['Date'].dt.dayofweek\n",
    "X_all['_hour'] = X_all['Date'].dt.hour\n",
    "X_all['_day'] = X_all['Date'].dt.day\n",
    "\n",
    "X_all['_weekday'] = X_all['_weekday'].astype(str)\n",
    "X_all['_hour'] = X_all['_hour'].astype(str)\n",
    "X_all['_weekday__hour'] = X_all['_weekday'] + X_all['_hour']\n",
    "\n",
    "cnt_day = X_all['_day'].value_counts()\n",
    "cnt_day = cnt_day / cnt_day.mean()\n",
    "X_all['_count_rate'] = X_all['_day'].map(cnt_day.to_dict())\n",
    "\n",
    "X_all.drop(['TransactionDT','Date','_day'], axis=1, inplace=True)"
   ]
  },
  {
   "cell_type": "code",
   "execution_count": 9,
   "metadata": {
    "collapsed": true
   },
   "outputs": [],
   "source": [
    "X_all['_card1__card2'] = X_all['card1'].astype(str) + '__' + X_all['card2'].astype(str)\n",
    "X_all['_card_n'] = X_all['card1'].astype(str) + '__' + X_all['card2'].astype(str) + '__' + X_all['card3'].astype(str) + '__' + X_all['card5'].astype(str)"
   ]
  },
  {
   "cell_type": "code",
   "execution_count": 11,
   "metadata": {},
   "outputs": [],
   "source": [
    "X_all['_card1__addr1'] = X_all['card1'].astype(str) + '__' + X_all['addr1'].astype(str)\n",
    "X_all['_card2__addr1'] = X_all['card2'].astype(str) + '__' + X_all['addr1'].astype(str)\n",
    "X_all['_card12__addr1'] = X_all['_card1__card2'] + '__' + X_all['addr1'].astype(str)\n",
    "X_all['_card_all__addr1'] = X_all['_card1__card2'] + '__' + X_all['addr1'].astype(str)\n",
    "\n",
    "X_all['_P_emaildomain__addr1'] = X_all['P_emaildomain'] + '__' + X_all['addr1'].astype(str)"
   ]
  },
  {
   "cell_type": "code",
   "execution_count": 12,
   "metadata": {},
   "outputs": [
    {
     "data": {
      "text/html": [
       "<div>\n",
       "<style scoped>\n",
       "    .dataframe tbody tr th:only-of-type {\n",
       "        vertical-align: middle;\n",
       "    }\n",
       "\n",
       "    .dataframe tbody tr th {\n",
       "        vertical-align: top;\n",
       "    }\n",
       "\n",
       "    .dataframe thead th {\n",
       "        text-align: right;\n",
       "    }\n",
       "</style>\n",
       "<table border=\"1\" class=\"dataframe\">\n",
       "  <thead>\n",
       "    <tr style=\"text-align: right;\">\n",
       "      <th></th>\n",
       "      <th>TransactionAmt</th>\n",
       "      <th>_amount_decimal</th>\n",
       "      <th>_amount_decimal_len</th>\n",
       "      <th>_amount_fraction</th>\n",
       "    </tr>\n",
       "  </thead>\n",
       "  <tbody>\n",
       "    <tr>\n",
       "      <th>0</th>\n",
       "      <td>68.500</td>\n",
       "      <td>500</td>\n",
       "      <td>1</td>\n",
       "      <td>0.850</td>\n",
       "    </tr>\n",
       "    <tr>\n",
       "      <th>1</th>\n",
       "      <td>29.000</td>\n",
       "      <td>0</td>\n",
       "      <td>0</td>\n",
       "      <td>0.900</td>\n",
       "    </tr>\n",
       "    <tr>\n",
       "      <th>2</th>\n",
       "      <td>59.000</td>\n",
       "      <td>0</td>\n",
       "      <td>0</td>\n",
       "      <td>0.900</td>\n",
       "    </tr>\n",
       "    <tr>\n",
       "      <th>3</th>\n",
       "      <td>50.000</td>\n",
       "      <td>0</td>\n",
       "      <td>0</td>\n",
       "      <td>0.000</td>\n",
       "    </tr>\n",
       "    <tr>\n",
       "      <th>4</th>\n",
       "      <td>50.000</td>\n",
       "      <td>0</td>\n",
       "      <td>0</td>\n",
       "      <td>0.000</td>\n",
       "    </tr>\n",
       "    <tr>\n",
       "      <th>5</th>\n",
       "      <td>49.000</td>\n",
       "      <td>0</td>\n",
       "      <td>0</td>\n",
       "      <td>0.900</td>\n",
       "    </tr>\n",
       "    <tr>\n",
       "      <th>6</th>\n",
       "      <td>159.000</td>\n",
       "      <td>0</td>\n",
       "      <td>0</td>\n",
       "      <td>0.590</td>\n",
       "    </tr>\n",
       "    <tr>\n",
       "      <th>7</th>\n",
       "      <td>422.500</td>\n",
       "      <td>500</td>\n",
       "      <td>1</td>\n",
       "      <td>0.225</td>\n",
       "    </tr>\n",
       "    <tr>\n",
       "      <th>8</th>\n",
       "      <td>15.000</td>\n",
       "      <td>0</td>\n",
       "      <td>0</td>\n",
       "      <td>0.500</td>\n",
       "    </tr>\n",
       "    <tr>\n",
       "      <th>9</th>\n",
       "      <td>117.000</td>\n",
       "      <td>0</td>\n",
       "      <td>0</td>\n",
       "      <td>0.170</td>\n",
       "    </tr>\n",
       "  </tbody>\n",
       "</table>\n",
       "</div>"
      ],
      "text/plain": [
       "   TransactionAmt  _amount_decimal  _amount_decimal_len  _amount_fraction\n",
       "0          68.500              500                    1             0.850\n",
       "1          29.000                0                    0             0.900\n",
       "2          59.000                0                    0             0.900\n",
       "3          50.000                0                    0             0.000\n",
       "4          50.000                0                    0             0.000\n",
       "5          49.000                0                    0             0.900\n",
       "6         159.000                0                    0             0.590\n",
       "7         422.500              500                    1             0.225\n",
       "8          15.000                0                    0             0.500\n",
       "9         117.000                0                    0             0.170"
      ]
     },
     "execution_count": 12,
     "metadata": {},
     "output_type": "execute_result"
    }
   ],
   "source": [
    "X_all['_amount_decimal'] = ((X_all['TransactionAmt'] - X_all['TransactionAmt'].astype(int)) * 1000).astype(int)\n",
    "X_all['_amount_decimal_len'] = X_all['TransactionAmt'].apply(lambda x: len(re.sub('0+$', '', str(x)).split('.')[1]))\n",
    "X_all['_amount_fraction'] = X_all['TransactionAmt'].apply(lambda x: float('0.'+re.sub('^[0-9]|\\.|0+$', '', str(x))))\n",
    "X_all[['TransactionAmt','_amount_decimal','_amount_decimal_len','_amount_fraction']].head(10)"
   ]
  },
  {
   "cell_type": "code",
   "execution_count": 13,
   "metadata": {
    "collapsed": true
   },
   "outputs": [],
   "source": [
    "cols = ['ProductCD', 'card1', 'card2', 'card5', 'card6', 'P_emaildomain', '_card_all__addr1', '_card_n']\n",
    "\n",
    "# amount mean&std\n",
    "for f in cols:\n",
    "    X_all['_amount_mean_{}'.format(f)] = X_all['TransactionAmt'] / X_all.groupby([f])['TransactionAmt'].transform('mean')\n",
    "    X_all['_amount_std_{}'.format(f)] = X_all['TransactionAmt'] / X_all.groupby([f])['TransactionAmt'].transform('std')\n",
    "    X_all['_amount_pct_{}'.format(f)] = (X_all['TransactionAmt'] - X_all['_amount_mean_{}'.format(f)]) / X_all['_amount_std_{}'.format(f)]\n",
    "\n",
    "\n",
    "# freq encoding\n",
    "for f in cols:\n",
    "    vc = X_all[f].value_counts(dropna=False)\n",
    "    X_all['_freq_{}'.format(f)] = X_all[f].map(vc)\n",
    "    "
   ]
  },
  {
   "cell_type": "code",
   "execution_count": 16,
   "metadata": {},
   "outputs": [
    {
     "name": "stdout",
     "output_type": "stream",
     "text": [
      "['ProductCD', 'card4', 'card6', 'P_emaildomain', 'R_emaildomain', 'M1', 'M2', 'M3', 'M4', 'M5', 'M6', 'M7', 'M8', 'M9', 'id_12', 'id_13', 'id_14', 'id_15', 'id_16', 'id_17', 'id_18', 'id_19', 'id_20', 'id_21', 'id_22', 'id_23', 'id_24', 'id_25', 'id_26', 'id_27', 'id_28', 'id_29', 'id_30', 'id_31', 'id_32', 'id_33', 'id_34', 'id_35', 'id_36', 'id_37', 'id_38', 'DeviceType', 'DeviceInfo', '_weekday', '_hour', '_weekday__hour', '_card1__card2', '_card_n', '_card1__addr1', '_card2__addr1', '_card12__addr1', '_card_all__addr1', '_P_emaildomain__addr1']\n"
     ]
    }
   ],
   "source": [
    "\n",
    "cat_cols = ['id_{:02d}'.format(i) for i in range(12, 39)]\n",
    "for i in cat_cols:\n",
    "    if i in X_all.columns:\n",
    "        X_all[i] = X_all[i].astype(str)\n",
    "        X_all[i].fillna('unknown', inplace=True)\n",
    "\n",
    "enc_cols = []\n",
    "for i, t in X_all.loc[:, X_all.columns != 'isFraud'].dtypes.iteritems():\n",
    "    if t == object:\n",
    "        enc_cols.append(i)\n",
    "        #df = pd.concat([df, pd.get_dummies(df[i].astype(str), prefix=i)], axis=1)\n",
    "        #df.drop(i, axis=1, inplace=True)\n",
    "        X_all[i] = pd.factorize(X_all[i])[0]\n",
    "        #X_all[i] = X_all[i].astype('category')\n",
    "print(enc_cols)"
   ]
  },
  {
   "cell_type": "code",
   "execution_count": 18,
   "metadata": {},
   "outputs": [
    {
     "name": "stdout",
     "output_type": "stream",
     "text": [
      "((590540, 141), (590540,))\n",
      "(506691, 141)\n"
     ]
    }
   ],
   "source": [
    "X_trn = X_all[X_all['isFraud'].notnull()]\n",
    "X_tst = X_all[X_all['isFraud'].isnull()].drop('isFraud', axis=1)\n",
    "y_trn = X_trn.pop('isFraud')\n",
    "\n",
    "print(X_trn.shape, y_trn.shape)\n",
    "print(X_tst.shape)"
   ]
  },
  {
   "cell_type": "code",
   "execution_count": 21,
   "metadata": {},
   "outputs": [
    {
     "name": "stdout",
     "output_type": "stream",
     "text": [
      "CPU times: user 40min 9s, sys: 31.7 s, total: 40min 41s\n",
      "Wall time: 11min 11s\n"
     ]
    }
   ],
   "source": [
    "%%time\n",
    "\n",
    "import lightgbm as lgb\n",
    "\n",
    "params={'learning_rate': 0.01,\n",
    "        'objective': 'binary',\n",
    "        'metric': 'auc',\n",
    "        'num_threads': -1,\n",
    "        'num_leaves': 256,\n",
    "        'verbose': 1,\n",
    "        'random_state': 42,\n",
    "        'bagging_fraction': 1,\n",
    "        'feature_fraction': 0.85,\n",
    "        'n_estimators': 1000\n",
    "       }\n",
    "\n",
    "\n",
    "clf = lgb.LGBMClassifier(**params)\n",
    "clf.fit(X_trn, y_trn)\n",
    "\n",
    "p_trn = clf.predict_proba(X_trn, num_iteration=clf.best_iteration_)[:,1]\n",
    "p_tst = clf.predict_proba(X_tst, num_iteration=clf.best_iteration_)[:,1]"
   ]
  },
  {
   "cell_type": "code",
   "execution_count": 22,
   "metadata": {},
   "outputs": [
    {
     "data": {
      "image/png": "[encoded data removed]",
      "text/plain": [
       "<Figure size 432x288 with 1 Axes>"
      ]
     },
     "metadata": {},
     "output_type": "display_data"
    }
   ],
   "source": [
    "fpr, tpr, thresholds = metrics.roc_curve(y_trn, p_trn)\n",
    "auc = metrics.auc(fpr, tpr)\n",
    "\n",
    "plt.plot(fpr, tpr, label='ROC curve (area = %.3f)' % auc)\n",
    "plt.legend()\n",
    "plt.title('ROC curve')\n",
    "plt.xlabel('False Positive Rate')\n",
    "plt.ylabel('True Positive Rate')\n",
    "plt.grid(True)\n",
    "\n",
    "plt.show()"
   ]
  },
  {
   "cell_type": "code",
   "execution_count": 23,
   "metadata": {
    "collapsed": true
   },
   "outputs": [],
   "source": [
    "def get_importances(clf):\n",
    "    feature_importance = clf.feature_importances_\n",
    "    feature_importance = 100 * feature_importance / feature_importance.max()\n",
    "\n",
    "    sorted_idx = np.argsort(feature_importance)\n",
    "    sorted_idx = sorted_idx[-50:]\n",
    "    pos = np.arange(sorted_idx.shape[0]) + .5\n",
    "\n",
    "    plt.figure(figsize=(10,12))\n",
    "    plt.barh(pos, feature_importance[sorted_idx], align='center')\n",
    "    plt.yticks(pos, X_trn.columns[sorted_idx])\n",
    "    plt.xlabel('Relative Importance')\n",
    "    plt.title('Variable Importance')\n",
    "    plt.show()\n",
    "\n",
    "    data = pd.DataFrame(feature_importance[sorted_idx], index=X_trn.columns[sorted_idx])\n",
    "    return data"
   ]
  },
  {
   "cell_type": "code",
   "execution_count": 24,
   "metadata": {},
   "outputs": [
    {
     "data": {
      "image/png": "[encoded data removed]",
      "text/plain": [
       "<Figure size 720x864 with 1 Axes>"
      ]
     },
     "metadata": {},
     "output_type": "display_data"
    }
   ],
   "source": [
    "_ = get_importances(clf)"
   ]
  },
  {
   "cell_type": "code",
   "execution_count": 25,
   "metadata": {
    "collapsed": true
   },
   "outputs": [],
   "source": [
    "import time\n",
    "\n",
    "def fast_auc(y_true, y_prob):\n",
    "    y_true = np.asarray(y_true)\n",
    "    y_true = y_true[np.argsort(y_prob)]\n",
    "    nfalse = 0.\n",
    "    auc = 0.\n",
    "    n = len(y_true)\n",
    "    for i in range(n):\n",
    "        y_i = y_true[i]\n",
    "        nfalse += (1 - y_i)\n",
    "        auc += y_i * nfalse\n",
    "    auc /= (nfalse * (n - nfalse))\n",
    "    return auc\n",
    "\n",
    "def eval_auc (preds, dtrain):\n",
    "    labels = dtrain.get_label()    \n",
    "    return 'auc', fast_auc(labels, preds), True\n",
    "\n",
    "\n",
    "def cross_validate_lgb(param, X_trn, y_trn, X_tst, kf,  \n",
    "                       num_boost_round, \n",
    "                       fname='submission', nseed=1, verbose_eval=1,\n",
    "                       featimp=False, save_pred=False,\n",
    "                       use_auc=True,\n",
    "                       early_stopping_rounds=150,\n",
    "                       use_all_folds=True,\n",
    "                       ):\n",
    "    \n",
    "    if save_pred:\n",
    "        now = datetime.datetime.now()\n",
    "        now = str(now.strftime('%Y-%m-%d-%H-%M-%S'))\n",
    "#         print 'started at:', now\n",
    "        print 'num bagging seeds:', nseed\n",
    "        fname = '_output/'+fname+'_'+now\n",
    "        print 'data size:', X_trn.shape, X_tst.shape\n",
    "        \n",
    "    \n",
    "    nfold = kf.n_splits\n",
    "    print 'nfold:', nfold\n",
    "        \n",
    "    val_pred = np.zeros((X_trn.shape[0], nseed))\n",
    "    test_pred = np.zeros((X_tst.shape[0], nfold * nseed))\n",
    "        \n",
    "    print 'num features:', X_trn.shape[1]\n",
    "    \n",
    "    d_train = lgb.Dataset(X_trn.values, label=y_trn)\n",
    "    if use_auc:\n",
    "        metric = 'auc'\n",
    "    else:\n",
    "        metric = None\n",
    "    history = lgb.cv(params, d_train, num_boost_round=num_boost_round, \n",
    "                     folds=kf, metrics=metric, fobj=None,\n",
    "                     early_stopping_rounds=early_stopping_rounds, \n",
    "                     verbose_eval=verbose_eval, show_stdv=True, seed=0)\n",
    "    if use_auc:\n",
    "        best_round = np.argmax(history['auc-mean'])\n",
    "    else:\n",
    "        best_round = np.argmin(history['binary_logloss-mean'])\n",
    "    print 'best_round:', best_round\n",
    "    if best_round == 0:\n",
    "        best_round = 1\n",
    "        \n",
    "    bsts = []\n",
    "    for i, (train_index, test_index) in enumerate(kf.split(X_trn, y_trn)):\n",
    "        print 'train fold', i,\n",
    "        X_trn_kf, X_tst_kf = X_trn.loc[train_index,:].copy(), X_trn.loc[test_index,:].copy()\n",
    "        y_trn_kf, y_test_kf = y_trn[train_index], y_trn[test_index]\n",
    "\n",
    "        d_train_kf = lgb.Dataset(X_trn_kf, label=y_trn_kf)\n",
    "        d_test_kf = lgb.Dataset(X_tst_kf, label=y_test_kf)\n",
    "        \n",
    "        train_fold_pred = 0\n",
    "        \n",
    "        feval = None\n",
    "        if use_auc:\n",
    "            feval=eval_auc\n",
    "        for seed in range(nseed):\n",
    "            param['seed'] = seed\n",
    "            \n",
    "            bst = lgb.train(param, d_train_kf, num_boost_round=best_round,\n",
    "                            verbose_eval=None,\n",
    "                            early_stopping_rounds=None, \n",
    "                            )\n",
    "\n",
    "            bsts.append(bst)\n",
    "            pred = bst.predict(X_tst_kf)\n",
    "            val_pred[test_index, seed] = (pred)\n",
    "            pred = bst.predict(X_tst)\n",
    "            test_pred[:, i*nseed + seed] = (pred)\n",
    "            train_fold_pred = train_fold_pred + bst.predict(X_trn_kf)\n",
    "            print '.',\n",
    "            \n",
    "        train_fold_pred /= nseed\n",
    "        print 'train auc: %0.5f' % fast_auc(y_trn_kf, train_fold_pred),\n",
    "        val_fold_pred = np.mean(val_pred[test_index,:], axis=1)  \n",
    "        print 'val auc: %0.5f' % fast_auc(y_test_kf, val_fold_pred)\n",
    "        del d_train_kf\n",
    "        del d_test_kf\n",
    "        gc.collect()\n",
    "        if featimp:\n",
    "            importances = get_importances(bsts)\n",
    "            plt.show()\n",
    "        else:\n",
    "            importances = None\n",
    "        if use_all_folds == False:\n",
    "            break\n",
    "    \n",
    "    \n",
    "    print 'saving raw train prediction to:', fname+'_train.npy'\n",
    "    np.save(fname+'_train.npy', val_pred)\n",
    "    print 'saving raw test prediction to:', fname+'_test.npy'\n",
    "    np.save(fname+'_test.npy', test_pred)\n",
    "    \n",
    "    epsilon = 1e-6\n",
    "\n",
    "    train_expit = (val_pred + epsilon - val_pred.ravel().min())\n",
    "    test_expit = (test_pred + epsilon - test_pred.ravel().min())\n",
    "    train_expit /= (epsilon + train_expit.ravel().max())\n",
    "    test_expit /= (epsilon + test_expit.ravel().max())\n",
    "    \n",
    "    train_pred_mean = np.mean(train_expit, axis=1)\n",
    "    test_pred_mean = np.mean(test_expit, axis=1)        \n",
    "    print 'cv       mean auc:%0.5f' % fast_auc(y_trn, train_pred_mean)\n",
    "    print 'saving mean test prediction ...'\n",
    "    mysub(X_tst_id, test_pred.mean(axis=1))\n",
    "\n",
    "    if featimp:\n",
    "        importances = get_importances(bsts)\n",
    "    else:\n",
    "        importances = None\n",
    "\n",
    "    return importances, val_pred, test_pred, bsts, fname\n",
    "\n",
    "def mysub(sub_id, sub_preds):\n",
    "    dirname = '_output/'\n",
    "    timestr = time.strftime('%Y%m%d-%H%M%S')\n",
    "    filename = dirname + 'submission_' + timestr + '.csv'\n",
    "\n",
    "    submission = pd.DataFrame()\n",
    "    submission['TransactionID'] = sub_id\n",
    "    submission['isFraud'] = sub_preds\n",
    "    submission.to_csv(filename, index=False)\n",
    "    return \n"
   ]
  },
  {
   "cell_type": "code",
   "execution_count": 26,
   "metadata": {
    "collapsed": true
   },
   "outputs": [],
   "source": [
    "kf = StratifiedKFold(5, shuffle=True, random_state=7)\n",
    "\n",
    "params={'learning_rate': 0.01,\n",
    "        'objective': 'binary',\n",
    "        'metric': 'auc',\n",
    "        'num_threads': -1,\n",
    "        'num_leaves': 256,\n",
    "        'verbose': 1,\n",
    "        'random_state': 42,\n",
    "        'bagging_fraction': 1,\n",
    "        'feature_fraction': 0.85\n",
    "       }\n"
   ]
  },
  {
   "cell_type": "code",
   "execution_count": 28,
   "metadata": {},
   "outputs": [
    {
     "name": "stdout",
     "output_type": "stream",
     "text": [
      "started at: 2019-10-09-00-27-51\n",
      "num bagging seeds: 1\n",
      "data size: (590540, 141) (506691, 141)\n",
      "nfold: 5\n",
      "num features: 141\n",
      "[100]\tcv_agg's auc: 0.919066 + 0.00319689\n",
      "[200]\tcv_agg's auc: 0.938524 + 0.0023906\n",
      "[300]\tcv_agg's auc: 0.951088 + 0.00151243\n",
      "[400]\tcv_agg's auc: 0.958836 + 0.00141831\n",
      "[500]\tcv_agg's auc: 0.963309 + 0.00147379\n",
      "[600]\tcv_agg's auc: 0.966058 + 0.00149629\n",
      "[700]\tcv_agg's auc: 0.967754 + 0.00150459\n",
      "[800]\tcv_agg's auc: 0.968983 + 0.00151162\n",
      "[900]\tcv_agg's auc: 0.97003 + 0.00148938\n",
      "[1000]\tcv_agg's auc: 0.9709 + 0.00147409\n",
      "[1100]\tcv_agg's auc: 0.971605 + 0.00143275\n",
      "[1200]\tcv_agg's auc: 0.972234 + 0.00140673\n",
      "[1300]\tcv_agg's auc: 0.972799 + 0.00140929\n",
      "[1400]\tcv_agg's auc: 0.973304 + 0.00135341\n",
      "[1500]\tcv_agg's auc: 0.973727 + 0.00135193\n",
      "[1600]\tcv_agg's auc: 0.974101 + 0.00132953\n",
      "[1700]\tcv_agg's auc: 0.974445 + 0.00129362\n",
      "[1800]\tcv_agg's auc: 0.974706 + 0.00130046\n",
      "[1900]\tcv_agg's auc: 0.974961 + 0.0013234\n",
      "[2000]\tcv_agg's auc: 0.975165 + 0.0013112\n",
      "[2100]\tcv_agg's auc: 0.975335 + 0.00131376\n",
      "[2200]\tcv_agg's auc: 0.975505 + 0.00130986\n",
      "[2300]\tcv_agg's auc: 0.975654 + 0.00130696\n",
      "[2400]\tcv_agg's auc: 0.975796 + 0.00128801\n",
      "[2500]\tcv_agg's auc: 0.975936 + 0.00126061\n",
      "[2600]\tcv_agg's auc: 0.976005 + 0.00121782\n",
      "[2700]\tcv_agg's auc: 0.976081 + 0.00119857\n",
      "[2800]\tcv_agg's auc: 0.976146 + 0.0012077\n",
      "[2900]\tcv_agg's auc: 0.976204 + 0.00118995\n",
      "[3000]\tcv_agg's auc: 0.976234 + 0.00119118\n",
      "best_round: 2997\n",
      "train fold 0 . train auc: 1.00000 val auc: 0.97796\n",
      "train fold 1 . train auc: 1.00000 val auc: 0.97606\n",
      "train fold 2 . train auc: 1.00000 val auc: 0.97642\n",
      "train fold 3 . train auc: 1.00000 val auc: 0.97687\n",
      "train fold 4 . train auc: 1.00000 val auc: 0.97376\n",
      "saving raw train prediction to: _output/submission_2019-10-09-00-27-51_train.npy\n",
      "saving raw test prediction to: _output/submission_2019-10-09-00-27-51_test.npy\n",
      "cv       mean auc:0.97620\n",
      "saving mean test prediction ...\n"
     ]
    }
   ],
   "source": [
    "(importances_reglinear, train_pred_reglinear, test_pred_reglinear, bsts, fname_save)= cross_validate_lgb(params, X_trn, y_trn, X_tst, kf,  \n",
    "                     num_boost_round=3000, \n",
    "                     verbose_eval=100,\n",
    "                     featimp=False, save_pred=True,\n",
    "                     use_auc=True,\n",
    "                     early_stopping_rounds=150\n",
    "                     )"
   ]
  },
  {
   "cell_type": "code",
   "execution_count": null,
   "metadata": {
    "collapsed": true
   },
   "outputs": [],
   "source": []
  }
 ],
 "metadata": {
  "kernelspec": {
   "display_name": "_venv3",
   "language": "python",
   "name": "_venv3"
  },
  "language_info": {
   "codemirror_mode": {
    "name": "ipython",
    "version": 2
   },
   "file_extension": ".py",
   "mimetype": "text/x-python",
   "name": "python",
   "nbconvert_exporter": "python",
   "pygments_lexer": "ipython2",
   "version": "2.7.10"
  }
 },
 "nbformat": 4,
 "nbformat_minor": 2
}
